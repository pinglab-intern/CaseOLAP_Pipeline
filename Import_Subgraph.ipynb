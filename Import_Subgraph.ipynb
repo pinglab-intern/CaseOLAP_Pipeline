{
 "cells": [
  {
   "cell_type": "markdown",
   "metadata": {},
   "source": [
    "# Create a subgraph from exports made on the Reactome graph Database\n",
    "- This section relies on having exported a subgraph of all desired drugs to a file called `all_drugs.graphml`\n",
    "- File is created in the `Export_Subgraph.ipynb`\n",
    "- Manually must move the file from the reactome graphdb to the import folder of a new graphdb\n",
    "\n",
    "\n",
    "__Note:__ Must have started running a new empty neo4j graph database to succesfully connect"
   ]
  },
  {
   "cell_type": "code",
   "execution_count": 4,
   "metadata": {},
   "outputs": [],
   "source": [
    "import neo4j_functions.driver as neo4j_driver\n",
    "import pandas as pd\n",
    "import importlib\n",
    "import progressbar\n",
    "import os"
   ]
  },
  {
   "cell_type": "code",
   "execution_count": 5,
   "metadata": {},
   "outputs": [],
   "source": [
    "# Connect to new empty local database\n",
    "driver = neo4j_driver.driver(uri = \"bolt://localhost:7687\", user = \"neo4j\", password = \"subgraph1234\")"
   ]
  },
  {
   "cell_type": "markdown",
   "metadata": {},
   "source": [
    "If you encounter the error `java.lang.OutOfMemoryError: Java heap space` try going in to the neo4j.conf file and removing/commenting out the lines:\n",
    "```\n",
    "dbms.memory.heap.initial_size=512m\n",
    "dbms.memory.heap.max_size=1G\n",
    "```"
   ]
  },
  {
   "cell_type": "code",
   "execution_count": 6,
   "metadata": {},
   "outputs": [
    {
     "data": {
      "text/plain": [
       "<neo4j.BoltStatementResult at 0x11e2dfb38>"
      ]
     },
     "execution_count": 6,
     "metadata": {},
     "output_type": "execute_result"
    }
   ],
   "source": [
    "query = (\n",
    "\"\"\"\n",
    "CALL apoc.import.graphml('file:/all_drugs.graphml', {readLabels:true, storeNodeIds:true});\n",
    "\"\"\")\n",
    "driver.run_query(query)\n"
   ]
  },
  {
   "cell_type": "code",
   "execution_count": null,
   "metadata": {},
   "outputs": [],
   "source": []
  }
 ],
 "metadata": {
  "kernelspec": {
   "display_name": "Python 3",
   "language": "python",
   "name": "python3"
  },
  "language_info": {
   "codemirror_mode": {
    "name": "ipython",
    "version": 3
   },
   "file_extension": ".py",
   "mimetype": "text/x-python",
   "name": "python",
   "nbconvert_exporter": "python",
   "pygments_lexer": "ipython3",
   "version": "3.6.0"
  }
 },
 "nbformat": 4,
 "nbformat_minor": 4
}
