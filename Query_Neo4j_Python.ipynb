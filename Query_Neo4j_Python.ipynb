{
 "cells": [
  {
   "cell_type": "markdown",
   "metadata": {},
   "source": [
    "# Querying a Neo4j Instance in Python\n",
    "\n",
    "This instruction set requires having a running Neo4j instance. \n",
    "\n",
    "## Running Neo4j\n",
    "Neo4j is most easily run locally using the desktop GUI version. Alternatively from the command line it can be run with `neo4j start`\n",
    "\n",
    "## Importing required modules"
   ]
  },
  {
   "cell_type": "code",
   "execution_count": 1,
   "metadata": {},
   "outputs": [],
   "source": [
    "from neo4j import GraphDatabase"
   ]
  },
  {
   "cell_type": "markdown",
   "metadata": {},
   "source": [
    "## Initializing Driver and Creating Cypher Query\n",
    "\n",
    "The driver uses the neo4j-driver python package to connect via neo4j's api to my locally running Reactome Database. \n",
    "\n",
    "Queries are written the the Cypher query language. A good cheatsheet for commands can be found [here](https://neo4j.com/docs/cypher-refcard/current/)"
   ]
  },
  {
   "cell_type": "code",
   "execution_count": 2,
   "metadata": {},
   "outputs": [],
   "source": [
    "# Initialize connection to database\n",
    "driver = GraphDatabase.driver('bolt://localhost:7687', auth=('neo4j', 'Akre1234'))"
   ]
  },
  {
   "cell_type": "code",
   "execution_count": 17,
   "metadata": {},
   "outputs": [],
   "source": [
    "query = 'MATCH (a:Drug) RETURN a.name, a.stId LIMIT 5'"
   ]
  },
  {
   "cell_type": "markdown",
   "metadata": {},
   "source": [
    "## Run Cypher query and print desired results\n",
    "\n",
    "The query returned name and stId properties of 5 drugs. Each returned record will only contain the specified information form the query.   "
   ]
  },
  {
   "cell_type": "code",
   "execution_count": 18,
   "metadata": {},
   "outputs": [
    {
     "name": "stdout",
     "output_type": "stream",
     "text": [
      "Name: ['trastuzumab', 'herceptin', 'D5v8', 'R-597'] id: R-ALL-9634466\n",
      "Name: ['CP-724714'] id: R-ALL-9649889\n",
      "Name: ['Afatinib', 'BIBW2992', 'Irreversible TKI inhibitor afatinib generic inhibits  EGFR and  ERBB2 (HER2)'] id: R-ALL-1220577\n",
      "Name: ['AZ5104'] id: R-ALL-9649879\n",
      "Name: ['Sapitinib'] id: R-ALL-9649894\n"
     ]
    }
   ],
   "source": [
    "with driver.session() as session:\n",
    "    info = session.run(query)\n",
    "    for item in info:\n",
    "        print('Name:', item.values()[0], 'id:', item.values()[1])"
   ]
  }
 ],
 "metadata": {
  "kernelspec": {
   "display_name": "Python 3",
   "language": "python",
   "name": "python3"
  },
  "language_info": {
   "codemirror_mode": {
    "name": "ipython",
    "version": 3
   },
   "file_extension": ".py",
   "mimetype": "text/x-python",
   "name": "python",
   "nbconvert_exporter": "python",
   "pygments_lexer": "ipython3",
   "version": "3.6.0"
  }
 },
 "nbformat": 4,
 "nbformat_minor": 2
}
