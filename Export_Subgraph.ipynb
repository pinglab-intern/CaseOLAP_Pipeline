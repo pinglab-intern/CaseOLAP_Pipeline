{
 "cells": [
  {
   "cell_type": "markdown",
   "metadata": {},
   "source": [
    "# Export Subgraph of Reactome\n",
    "- This files generates cypher exports of the neighborhood around each drug found in the reactome database related to oxidative stress.\n",
    "- Files export to \\[Path_To_Local_Graph_DB\\]/import/drug_subgraphs/\\[Drug Name\\].cypher"
   ]
  },
  {
   "cell_type": "code",
   "execution_count": 3,
   "metadata": {},
   "outputs": [],
   "source": [
    "import neo4j_functions.driver as neo4j_driver\n",
    "import pandas as pd\n",
    "import importlib\n",
    "import progressbar"
   ]
  },
  {
   "cell_type": "code",
   "execution_count": 4,
   "metadata": {},
   "outputs": [
    {
     "data": {
      "text/html": [
       "<div>\n",
       "<style scoped>\n",
       "    .dataframe tbody tr th:only-of-type {\n",
       "        vertical-align: middle;\n",
       "    }\n",
       "\n",
       "    .dataframe tbody tr th {\n",
       "        vertical-align: top;\n",
       "    }\n",
       "\n",
       "    .dataframe thead th {\n",
       "        text-align: right;\n",
       "    }\n",
       "</style>\n",
       "<table border=\"1\" class=\"dataframe\">\n",
       "  <thead>\n",
       "    <tr style=\"text-align: right;\">\n",
       "      <th></th>\n",
       "      <th>Drug</th>\n",
       "      <th>Pathway</th>\n",
       "      <th>Species</th>\n",
       "      <th>edgeLength</th>\n",
       "      <th>IoOS</th>\n",
       "      <th>OoOS</th>\n",
       "      <th>RoOS</th>\n",
       "      <th>drug</th>\n",
       "    </tr>\n",
       "  </thead>\n",
       "  <tbody>\n",
       "    <tr>\n",
       "      <td>0</td>\n",
       "      <td>warfarin [cytosol]</td>\n",
       "      <td>Chaperone Mediated Autophagy</td>\n",
       "      <td>Homo sapiens</td>\n",
       "      <td>2.0</td>\n",
       "      <td>0.077812</td>\n",
       "      <td>0.261603</td>\n",
       "      <td>0.164026</td>\n",
       "      <td>warfarin</td>\n",
       "    </tr>\n",
       "    <tr>\n",
       "      <td>1</td>\n",
       "      <td>warfarin [cytosol]</td>\n",
       "      <td>Pink/Parkin Mediated Mitophagy</td>\n",
       "      <td>Homo sapiens</td>\n",
       "      <td>2.0</td>\n",
       "      <td>0.077812</td>\n",
       "      <td>0.261603</td>\n",
       "      <td>0.164026</td>\n",
       "      <td>warfarin</td>\n",
       "    </tr>\n",
       "    <tr>\n",
       "      <td>2</td>\n",
       "      <td>warfarin [cytosol]</td>\n",
       "      <td>Receptor Mediated Mitophagy</td>\n",
       "      <td>Homo sapiens</td>\n",
       "      <td>2.0</td>\n",
       "      <td>0.077812</td>\n",
       "      <td>0.261603</td>\n",
       "      <td>0.164026</td>\n",
       "      <td>warfarin</td>\n",
       "    </tr>\n",
       "    <tr>\n",
       "      <td>3</td>\n",
       "      <td>warfarin [cytosol]</td>\n",
       "      <td>Microautophagy</td>\n",
       "      <td>Homo sapiens</td>\n",
       "      <td>2.0</td>\n",
       "      <td>0.077812</td>\n",
       "      <td>0.261603</td>\n",
       "      <td>0.164026</td>\n",
       "      <td>warfarin</td>\n",
       "    </tr>\n",
       "    <tr>\n",
       "      <td>4</td>\n",
       "      <td>warfarin [cytosol]</td>\n",
       "      <td>Amplification  of signal from unattached  kine...</td>\n",
       "      <td>Homo sapiens</td>\n",
       "      <td>2.0</td>\n",
       "      <td>0.077812</td>\n",
       "      <td>0.261603</td>\n",
       "      <td>0.164026</td>\n",
       "      <td>warfarin</td>\n",
       "    </tr>\n",
       "  </tbody>\n",
       "</table>\n",
       "</div>"
      ],
      "text/plain": [
       "                 Drug                                            Pathway  \\\n",
       "0  warfarin [cytosol]                       Chaperone Mediated Autophagy   \n",
       "1  warfarin [cytosol]                     Pink/Parkin Mediated Mitophagy   \n",
       "2  warfarin [cytosol]                        Receptor Mediated Mitophagy   \n",
       "3  warfarin [cytosol]                                     Microautophagy   \n",
       "4  warfarin [cytosol]  Amplification  of signal from unattached  kine...   \n",
       "\n",
       "        Species  edgeLength      IoOS      OoOS      RoOS      drug  \n",
       "0  Homo sapiens         2.0  0.077812  0.261603  0.164026  warfarin  \n",
       "1  Homo sapiens         2.0  0.077812  0.261603  0.164026  warfarin  \n",
       "2  Homo sapiens         2.0  0.077812  0.261603  0.164026  warfarin  \n",
       "3  Homo sapiens         2.0  0.077812  0.261603  0.164026  warfarin  \n",
       "4  Homo sapiens         2.0  0.077812  0.261603  0.164026  warfarin  "
      ]
     },
     "execution_count": 4,
     "metadata": {},
     "output_type": "execute_result"
    }
   ],
   "source": [
    "drug_pathway_caseolap = pd.read_csv('output/drug_reactome_pathways_caseolap.csv')\n",
    "drug_pathway_caseolap.head()"
   ]
  },
  {
   "cell_type": "code",
   "execution_count": 9,
   "metadata": {},
   "outputs": [],
   "source": [
    "# Connect to local Reactome\n",
    "driver = neo4j_driver.driver(uri = \"bolt://localhost:7687\", user = \"neo4j\", password = \"Akre1234\")"
   ]
  },
  {
   "cell_type": "code",
   "execution_count": 33,
   "metadata": {},
   "outputs": [
    {
     "name": "stderr",
     "output_type": "stream",
     "text": [
      "N/A% (0 of 58) |                         | Elapsed Time: 0:00:00 ETA:  --:--:--"
     ]
    },
    {
     "name": "stdout",
     "output_type": "stream",
     "text": [
      "Query Example: \n",
      " \n",
      "    CALL apoc.export.graphml.query(\n",
      "    \"MATCH (d:Drug {displayName: 'warfarin [cytosol]'})-[a*1..2]-(b) RETURN d,a,b\",\n",
      "    \"/drug_subgraphs/warfarin-cytosol.graphml\",\n",
      "    {readLabels:true, storeNodeIds: true}\n",
      "    )\n",
      "\n",
      "    \n"
     ]
    },
    {
     "name": "stderr",
     "output_type": "stream",
     "text": [
      "100% (58 of 58) |########################| Elapsed Time: 0:02:19 Time:  0:02:19\n"
     ]
    }
   ],
   "source": [
    "i = 0\n",
    "for drug in progressbar.progressbar(drug_pathway_caseolap.Drug.unique()):\n",
    "\n",
    "    drug_fmt = drug.replace(' ', '-').replace('[', '').replace(']','')\n",
    "    query = (\n",
    "    \"\"\"\n",
    "    CALL apoc.export.graphml.query(\n",
    "    \"MATCH (d:Drug {displayName: '%s'})-[a*1..2]-(b) RETURN d,a,b\",\n",
    "    \"/drug_subgraphs/%s.graphml\",\n",
    "    {readLabels:true, storeNodeIds: true}\n",
    "    )\n",
    "\n",
    "    \"\"\" % (drug, drug_fmt))\n",
    "    if not i:\n",
    "        print('Query Example: \\n', query)\n",
    "        i += 1\n",
    "    driver.run_query(query)\n"
   ]
  },
  {
   "cell_type": "code",
   "execution_count": 35,
   "metadata": {},
   "outputs": [
    {
     "name": "stdout",
     "output_type": "stream",
     "text": [
      "\n",
      "CALL apoc.export.graphml.query(\n",
      "\"MATCH (d:Drug)-[a*1..2]-(b) WHERE toLower(d.displayName) IN ['warfarin [cytosol]', 'rivaroxaban [extracellular region]', 'dabigatran [extracellular region]', 'apixaban [extracellular region]', 'edoxaban [extracellular region]', 'carvedilol [extracellular region]', 'propranolol [extracellular region]', 'metoprolol [extracellular region]', 'sotalol [extracellular region]', 'nebivolol [extracellular region]', 'acebutolol [extracellular region]', 'atenolol [extracellular region]', 'betaxolol [extracellular region]', 'esmolol [extracellular region]', 'labetalol [extracellular region]', 'ticagrelor [extracellular region]', 'ticlopidine [extracellular region]', 'clopidogrel [extracellular region]', 'r-138727 [extracellular region]', 'cangrelor [extracellular region]', 'dobutamine [extracellular region]', 'pindolol [extracellular region]', 'isoprenaline [extracellular region]', 'procainamide [extracellular region]', 'lidocaine [extracellular region]', 'disopyramide [extracellular region]', 'quinidine [extracellular region]', 'phenytoin [extracellular region]', 'mexiletine [extracellular region]', 'tocainide [extracellular region]', 'propafenone [extracellular region]', 'flecainide [extracellular region]', 'dofetilide [extracellular region]', 'ibutilide [extracellular region]', 'amlodipine [extracellular region]', 'diltiazem [extracellular region]', 'isradipine [extracellular region]', 'nifedipine [extracellular region]', 'felodipine [extracellular region]', 'nicardipine [extracellular region]', 'nisoldipine [extracellular region]', 'verapamil [extracellular region]', 'captopril [extracellular region]', 'lisinopril [extracellular region]', 'irbesartan [extracellular region]', 'telmisartan [extracellular region]', 'losartan [extracellular region]', 'olmesartan [extracellular region]', 'candesartan [extracellular region]', 'valsartan [extracellular region]', 'benazepril [endoplasmic reticulum lumen]', 'perindopril [endoplasmic reticulum lumen]', 'ramipril [endoplasmic reticulum lumen]', 'quinapril [endoplasmic reticulum lumen]', 'fosinopril [endoplasmic reticulum lumen]', 'enalapril [endoplasmic reticulum lumen]', 'enoximone [cytosol]', 'milrinone [cytosol]'] RETURN d,a,b\",\n",
      "\"/all_drugs.graphml\",\n",
      "{readLabels:true, storeNodeIds: true}\n",
      ")\n",
      "\n",
      "\n"
     ]
    }
   ],
   "source": [
    "drugs = drug_pathway_caseolap.Drug.unique()\n",
    "lowered_drugs = [d.lower() for d in drugs]\n",
    "query = (\n",
    "\"\"\"\n",
    "CALL apoc.export.graphml.query(\n",
    "\"MATCH (d:Drug)-[a*1..2]-(b) WHERE toLower(d.displayName) IN %s RETURN d,a,b\",\n",
    "\"/all_drugs.graphml\",\n",
    "{readLabels:true, storeNodeIds: true}\n",
    ")\n",
    "\n",
    "\"\"\" % (\"['\" + \"', '\".join(lowered_drugs) + \"']\")\n",
    ")\n",
    "print(query)\n",
    "result = driver.run_query(query)"
   ]
  },
  {
   "cell_type": "code",
   "execution_count": null,
   "metadata": {},
   "outputs": [],
   "source": []
  }
 ],
 "metadata": {
  "kernelspec": {
   "display_name": "Python 3",
   "language": "python",
   "name": "python3"
  },
  "language_info": {
   "codemirror_mode": {
    "name": "ipython",
    "version": 3
   },
   "file_extension": ".py",
   "mimetype": "text/x-python",
   "name": "python",
   "nbconvert_exporter": "python",
   "pygments_lexer": "ipython3",
   "version": "3.6.0"
  }
 },
 "nbformat": 4,
 "nbformat_minor": 4
}
